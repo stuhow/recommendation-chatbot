{
 "cells": [
  {
   "cell_type": "code",
   "execution_count": 3,
   "id": "97b51bc3-fb75-41ab-a1af-8fa99a7e23f5",
   "metadata": {},
   "outputs": [],
   "source": [
    "from langchain.agents import OpenAIFunctionsAgent, AgentExecutor\n",
    "from langchain.prompts import ChatPromptTemplate, MessagesPlaceholder\n",
    "from langchain.tools import PythonAstREPLTool\n",
    "import pandas as pd\n",
    "from langchain.chat_models import ChatOpenAI\n",
    "from langsmith import Client\n",
    "from langchain.smith import RunEvalConfig, run_on_dataset\n",
    "from pydantic import BaseModel, Field\n",
    "from langchain.embeddings import OpenAIEmbeddings\n",
    "from langchain.vectorstores import FAISS\n",
    "from langchain.agents.agent_toolkits.conversational_retrieval.tool import create_retriever_tool\n",
    "from langchain.document_loaders.csv_loader import CSVLoader"
   ]
  },
  {
   "cell_type": "code",
   "execution_count": 5,
   "id": "cc663036-b25f-4c2b-aef6-74cdab3de3a0",
   "metadata": {},
   "outputs": [],
   "source": [
    "from dotenv import load_dotenv\n",
    "import os\n",
    "\n",
    "# Load the environment variables from the .env file\n",
    "load_dotenv()\n",
    "\n",
    "# Access environment variables\n",
    "api_key = os.getenv(\"OPENAI_KEY\")"
   ]
  },
  {
   "cell_type": "code",
   "execution_count": 19,
   "id": "bb5daa1e-7d1a-49cf-b4ed-2a7dc8564913",
   "metadata": {},
   "outputs": [],
   "source": [
    "# Set up a knowledge base\n",
    "product_catalog = \"clean_beer.csv\"\n",
    "\n",
    "\n",
    "pd.set_option('display.max_rows', 20)\n",
    "pd.set_option('display.max_columns', 20)\n",
    "\n",
    "# load product catalog\n",
    "loader = CSVLoader(file_path=product_catalog)\n",
    "documents = loader.load()\n",
    "\n",
    "embedding_model = OpenAIEmbeddings(openai_api_key=api_key)\n",
    "vectorstore = FAISS.from_documents(documents, embedding_model)\n",
    "\n",
    "retriever_tool = create_retriever_tool(vectorstore.as_retriever(), \"beer_name_search\", \"Search for a beer by name\")\n",
    "\n",
    "TEMPLATE = \"\"\"You are working with a pandas dataframe in Python. The name of the dataframe is `df`.\n",
    "It is important to understand the attributes of the dataframe before working with it. This is the result of running `df.head().to_markdown()`\n",
    "\n",
    "<df>\n",
    "{dhead}\n",
    "</df>\n",
    "\n",
    "You are not meant to use only these rows to answer questions - they are meant as a way of telling you about the shape and schema of the dataframe.\n",
    "You also do not have use only the information here to answer questions - you can run intermediate queries to do exporatory data analysis to give you more information as needed.\n",
    "\n",
    "You have a tool called `beer_name_search` through which you can lookup a beer by name and find the records corresponding to beers with similar name as the query.\n",
    "You should only really use this if your search term contains a beer's name. Otherwise, try to solve it with code.\n",
    "\n",
    "For example:\n",
    "    \n",
    "<question>How strong is Best Beer?</question>\n",
    "<logic>Use `beer_name_search` since you can use the query `Best Beer`</logic>\n",
    "\n",
    "<question>Which beer has an ibu of 41.5</question>\n",
    "<logic>Use `python_repl` since even though the question is about a beer, you don't know their name so you can't include it.</logic>\n",
    "\"\"\"\n",
    "\n",
    "class PythonInputs(BaseModel):\n",
    "    query: str = Field(description=\"code snippet to run\")\n",
    "\n",
    "\n",
    "\n",
    "df = pd.read_csv(\"clean_beer.csv\")\n",
    "template = TEMPLATE.format(dhead=df.head().to_markdown())\n",
    "\n",
    "prompt = ChatPromptTemplate.from_messages([\n",
    "    (\"system\", template),\n",
    "    MessagesPlaceholder(variable_name=\"agent_scratchpad\"),\n",
    "    (\"human\", \"{input}\")\n",
    "])\n",
    "\n",
    "\n",
    "repl = PythonAstREPLTool(locals={\"df\": df}, name=\"python_repl\",\n",
    "                         description=\"Runs code and returns the output of the final line\",\n",
    "                         args_schema=PythonInputs)\n",
    "tools = [repl, retriever_tool]\n",
    "agent = OpenAIFunctionsAgent(llm=ChatOpenAI(temperature=0, model=\"gpt-3.5-turbo\", openai_api_key=api_key),\n",
    "                             prompt=prompt, \n",
    "                             tools=tools,\n",
    "                            )\n",
    "agent_executor = AgentExecutor(agent=agent, \n",
    "                               tools=tools, \n",
    "                               max_iterations=5, \n",
    "                               early_stopping_method=\"generate\",\n",
    "                               verbose=True\n",
    "                              )\n",
    "\n",
    "\n"
   ]
  },
  {
   "cell_type": "code",
   "execution_count": 20,
   "id": "ea2594cc-fbc4-4061-a24d-01bf672b9c39",
   "metadata": {},
   "outputs": [],
   "source": [
    "qa_chain = get_chain()"
   ]
  },
  {
   "cell_type": "code",
   "execution_count": 23,
   "id": "f9a884c1-2858-4960-b082-8e8445b47b61",
   "metadata": {},
   "outputs": [
    {
     "name": "stdout",
     "output_type": "stream",
     "text": [
      "\n",
      "\n",
      "\u001b[1m> Entering new AgentExecutor chain...\u001b[0m\n",
      "\u001b[32;1m\u001b[1;3m\n",
      "Invoking: `beer_name_search` with `tacos`\n",
      "\n",
      "\n",
      "\u001b[0m\u001b[33;1m\u001b[1;3m[Document(page_content=\"id: 116\\nname: Morag's Mojito - B-Sides\\ntagline: Cocktail Meets Beer.\\nfirst_brewed: 08/2015\\ndescription: A cunning cocktail blend of grapefruit hops, ginger spice and refreshing mint.\\nimage_url: https://images.punkapi.com/v2/keg.png\\nabv: 6.7\\nibu: 40.0\\nebc: 15.0\\nsrm: 7.5\\nph: 5.2\\ningredients: Extra Pale, Ginger Root Citra, Citra, Citra Wyeast 1056 - American Ale™\\nfood_pairing: Tamale, Salt cod croquettes, Mint cheesecake\\ncontributed_by: Matt Ball\\nmalts: Extra Pale, Ginger Root\\nhops: Citra, Citra, Citra\\nyeast: Wyeast 1056 - American Ale™\", metadata={'source': 'clean_beer.csv', 'row': 115}), Document(page_content='id: 295\\nname: Choco Libre\\ntagline: Mexican Hot Chocolate Imperial Stout.\\nfirst_brewed: 2017\\ndescription: This one-off brew showcases the flavours of a Mexican spiced hot chocolate, infused with an imperial stout.\\nimage_url: \\nabv: 9.0\\nibu: 25.0\\nebc: 190.0\\nsrm: 96.0\\nph: 4.2\\ningredients: Pale Ale, Medium Crystal, Munich, Flaked Oats, Brown, Chocolate Wheat, Carafa Special Malt Type 1 Galena, Cinnamon Powder, Cocoa Nibs, Vanilla Extract, Ground Coffee, Habenero Powder Wyeast 1056 - American Ale™\\nfood_pairing: Habanero pulled pork, Gouda cheese, Dark chocolate and coffee torte\\ncontributed_by: John Jenkman\\nmalts: Pale Ale, Medium Crystal, Munich, Flaked Oats, Brown, Chocolate Wheat, Carafa Special Malt Type 1\\nhops: Galena, Cinnamon Powder, Cocoa Nibs, Vanilla Extract, Ground Coffee, Habenero Powder\\nyeast: Wyeast 1056 - American Ale™', metadata={'source': 'clean_beer.csv', 'row': 294}), Document(page_content=\"id: 152\\nname: Deaf Mermaid - B-Sides\\ntagline: Light Pale Ale.\\nfirst_brewed: 04/2015\\ndescription: A keg-only summer special, hop- bursted and dry-hopped to infinity.\\nimage_url: https://images.punkapi.com/v2/keg.png\\nabv: 5.2\\nibu: 65.0\\nebc: 16.0\\nsrm: 8.0\\nph: 5.2\\ningredients: Pale Ale Chinook, Amarillo, Chinook, Mosaic, Amarillo, Chinook, Mosaic Wyeast 1056 - American Ale™\\nfood_pairing: Grilled fish tacos, Greek salad, Goat's cheese\\ncontributed_by: Sam Mason\\nmalts: Pale Ale\\nhops: Chinook, Amarillo, Chinook, Mosaic, Amarillo, Chinook, Mosaic\\nyeast: Wyeast 1056 - American Ale™\", metadata={'source': 'clean_beer.csv', 'row': 151}), Document(page_content='id: 248\\nname: Twin Atlantic\\ntagline: Mango & Pineapple Pale\\nfirst_brewed: 2016\\ndescription: Brewed in collaboration with our AGM-headlining band, Twin Atlantic, this US style pale features some of our favourite hops and is loaded with tropical fruit.\\nimage_url: https://images.punkapi.com/v2/keg.png\\nabv: 5.0\\nibu: 80.0\\nebc: 19.0\\nsrm: 9.7\\nph: 5.2\\ningredients: Pale Ale, Caramalt Cascade, Equinox Wyeast 1056 - American Ale™\\nfood_pairing: Jerk Chicken Kebabs with Mango Salsa, Avocado and Citrus Salad, Pineapple Upside Down Cake\\ncontributed_by: John Jenkman\\nmalts: Pale Ale, Caramalt\\nhops: Cascade, Equinox\\nyeast: Wyeast 1056 - American Ale™', metadata={'source': 'clean_beer.csv', 'row': 247})]\u001b[0m\u001b[32;1m\u001b[1;3m\n",
      "Invoking: `beer_name_search` with `tacos`\n",
      "\n",
      "\n",
      "\u001b[0m\u001b[33;1m\u001b[1;3m[Document(page_content=\"id: 116\\nname: Morag's Mojito - B-Sides\\ntagline: Cocktail Meets Beer.\\nfirst_brewed: 08/2015\\ndescription: A cunning cocktail blend of grapefruit hops, ginger spice and refreshing mint.\\nimage_url: https://images.punkapi.com/v2/keg.png\\nabv: 6.7\\nibu: 40.0\\nebc: 15.0\\nsrm: 7.5\\nph: 5.2\\ningredients: Extra Pale, Ginger Root Citra, Citra, Citra Wyeast 1056 - American Ale™\\nfood_pairing: Tamale, Salt cod croquettes, Mint cheesecake\\ncontributed_by: Matt Ball\\nmalts: Extra Pale, Ginger Root\\nhops: Citra, Citra, Citra\\nyeast: Wyeast 1056 - American Ale™\", metadata={'source': 'clean_beer.csv', 'row': 115}), Document(page_content='id: 295\\nname: Choco Libre\\ntagline: Mexican Hot Chocolate Imperial Stout.\\nfirst_brewed: 2017\\ndescription: This one-off brew showcases the flavours of a Mexican spiced hot chocolate, infused with an imperial stout.\\nimage_url: \\nabv: 9.0\\nibu: 25.0\\nebc: 190.0\\nsrm: 96.0\\nph: 4.2\\ningredients: Pale Ale, Medium Crystal, Munich, Flaked Oats, Brown, Chocolate Wheat, Carafa Special Malt Type 1 Galena, Cinnamon Powder, Cocoa Nibs, Vanilla Extract, Ground Coffee, Habenero Powder Wyeast 1056 - American Ale™\\nfood_pairing: Habanero pulled pork, Gouda cheese, Dark chocolate and coffee torte\\ncontributed_by: John Jenkman\\nmalts: Pale Ale, Medium Crystal, Munich, Flaked Oats, Brown, Chocolate Wheat, Carafa Special Malt Type 1\\nhops: Galena, Cinnamon Powder, Cocoa Nibs, Vanilla Extract, Ground Coffee, Habenero Powder\\nyeast: Wyeast 1056 - American Ale™', metadata={'source': 'clean_beer.csv', 'row': 294}), Document(page_content=\"id: 152\\nname: Deaf Mermaid - B-Sides\\ntagline: Light Pale Ale.\\nfirst_brewed: 04/2015\\ndescription: A keg-only summer special, hop- bursted and dry-hopped to infinity.\\nimage_url: https://images.punkapi.com/v2/keg.png\\nabv: 5.2\\nibu: 65.0\\nebc: 16.0\\nsrm: 8.0\\nph: 5.2\\ningredients: Pale Ale Chinook, Amarillo, Chinook, Mosaic, Amarillo, Chinook, Mosaic Wyeast 1056 - American Ale™\\nfood_pairing: Grilled fish tacos, Greek salad, Goat's cheese\\ncontributed_by: Sam Mason\\nmalts: Pale Ale\\nhops: Chinook, Amarillo, Chinook, Mosaic, Amarillo, Chinook, Mosaic\\nyeast: Wyeast 1056 - American Ale™\", metadata={'source': 'clean_beer.csv', 'row': 151}), Document(page_content='id: 248\\nname: Twin Atlantic\\ntagline: Mango & Pineapple Pale\\nfirst_brewed: 2016\\ndescription: Brewed in collaboration with our AGM-headlining band, Twin Atlantic, this US style pale features some of our favourite hops and is loaded with tropical fruit.\\nimage_url: https://images.punkapi.com/v2/keg.png\\nabv: 5.0\\nibu: 80.0\\nebc: 19.0\\nsrm: 9.7\\nph: 5.2\\ningredients: Pale Ale, Caramalt Cascade, Equinox Wyeast 1056 - American Ale™\\nfood_pairing: Jerk Chicken Kebabs with Mango Salsa, Avocado and Citrus Salad, Pineapple Upside Down Cake\\ncontributed_by: John Jenkman\\nmalts: Pale Ale, Caramalt\\nhops: Cascade, Equinox\\nyeast: Wyeast 1056 - American Ale™', metadata={'source': 'clean_beer.csv', 'row': 247})]\u001b[0m\u001b[32;1m\u001b[1;3mBased on the search results, here are some beers that pair well with tacos:\n",
      "\n",
      "1. Morag's Mojito - B-Sides:\n",
      "   - ABV: 6.7%\n",
      "   - IBU: 40.0\n",
      "   - Description: A cunning cocktail blend of grapefruit hops, ginger spice, and refreshing mint.\n",
      "   - Food Pairing: Tamale, Salt cod croquettes, Mint cheesecake\n",
      "\n",
      "2. Deaf Mermaid - B-Sides:\n",
      "   - ABV: 5.2%\n",
      "   - IBU: 65.0\n",
      "   - Description: A keg-only summer special, hop-bursted and dry-hopped to infinity.\n",
      "   - Food Pairing: Grilled fish tacos, Greek salad, Goat's cheese\n",
      "\n",
      "3. Twin Atlantic:\n",
      "   - ABV: 5.0%\n",
      "   - IBU: 80.0\n",
      "   - Description: Brewed in collaboration with our AGM-headlining band, Twin Atlantic, this US style pale features some of our favorite hops and is loaded with tropical fruit.\n",
      "   - Food Pairing: Jerk Chicken Kebabs with Mango Salsa, Avocado and Citrus Salad, Pineapple Upside Down Cake\n",
      "\n",
      "Please note that these are just a few examples, and there may be other beers that pair well with tacos as well.\u001b[0m\n",
      "\n",
      "\u001b[1m> Finished chain.\u001b[0m\n"
     ]
    },
    {
     "data": {
      "text/plain": [
       "\"Based on the search results, here are some beers that pair well with tacos:\\n\\n1. Morag's Mojito - B-Sides:\\n   - ABV: 6.7%\\n   - IBU: 40.0\\n   - Description: A cunning cocktail blend of grapefruit hops, ginger spice, and refreshing mint.\\n   - Food Pairing: Tamale, Salt cod croquettes, Mint cheesecake\\n\\n2. Deaf Mermaid - B-Sides:\\n   - ABV: 5.2%\\n   - IBU: 65.0\\n   - Description: A keg-only summer special, hop-bursted and dry-hopped to infinity.\\n   - Food Pairing: Grilled fish tacos, Greek salad, Goat's cheese\\n\\n3. Twin Atlantic:\\n   - ABV: 5.0%\\n   - IBU: 80.0\\n   - Description: Brewed in collaboration with our AGM-headlining band, Twin Atlantic, this US style pale features some of our favorite hops and is loaded with tropical fruit.\\n   - Food Pairing: Jerk Chicken Kebabs with Mango Salsa, Avocado and Citrus Salad, Pineapple Upside Down Cake\\n\\nPlease note that these are just a few examples, and there may be other beers that pair well with tacos as well.\""
      ]
     },
     "execution_count": 23,
     "metadata": {},
     "output_type": "execute_result"
    }
   ],
   "source": [
    "agent_executor.run(\"which beers pair well with tacos?\")"
   ]
  },
  {
   "cell_type": "code",
   "execution_count": 26,
   "id": "f016d845-4952-4af2-8116-83b165ce6b2a",
   "metadata": {},
   "outputs": [],
   "source": [
    "df = pd.read_csv('clean_beer.csv')"
   ]
  },
  {
   "cell_type": "code",
   "execution_count": 29,
   "id": "27a78a31-ef3f-4061-a63c-c21ad132502e",
   "metadata": {},
   "outputs": [],
   "source": [
    "df[:10].to_csv('clean_beer_test.csv', index=False)"
   ]
  },
  {
   "cell_type": "code",
   "execution_count": null,
   "id": "7f4c61a3-a39f-40d4-9fc8-ea0f45f2bdf2",
   "metadata": {},
   "outputs": [],
   "source": []
  }
 ],
 "metadata": {
  "kernelspec": {
   "display_name": "Python 3 (ipykernel)",
   "language": "python",
   "name": "python3"
  },
  "language_info": {
   "codemirror_mode": {
    "name": "ipython",
    "version": 3
   },
   "file_extension": ".py",
   "mimetype": "text/x-python",
   "name": "python",
   "nbconvert_exporter": "python",
   "pygments_lexer": "ipython3",
   "version": "3.10.8"
  }
 },
 "nbformat": 4,
 "nbformat_minor": 5
}
