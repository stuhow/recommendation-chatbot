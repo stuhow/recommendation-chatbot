{
 "cells": [
  {
   "cell_type": "code",
   "execution_count": 1,
   "id": "552b81a5-0ddf-4c5c-ae51-bc23238b685e",
   "metadata": {},
   "outputs": [],
   "source": [
    "from dotenv import load_dotenv\n",
    "import os\n",
    "\n",
    "# Load the environment variables from the .env file\n",
    "load_dotenv()\n",
    "\n",
    "# Access environment variables\n",
    "api_key = os.getenv(\"OPENAI_KEY\")"
   ]
  },
  {
   "cell_type": "code",
   "execution_count": 2,
   "id": "25de9ca5-4967-452e-8085-47a752b85388",
   "metadata": {},
   "outputs": [],
   "source": [
    "# extract data from the punk api\n",
    "import requests\n",
    "import pandas as pd\n",
    "\n",
    "url = \"https://api.punkapi.com/v2/beers\"\n",
    "beers = []\n",
    "for i in range(1,10):\n",
    "    params ={\"per_page\":80,\n",
    "            \"page\":i}\n",
    "    response = requests.get(url, params=params).json()\n",
    "    if len(response) == 0:\n",
    "        break\n",
    "    else:\n",
    "        beers.extend(response)\n"
   ]
  },
  {
   "cell_type": "code",
   "execution_count": 3,
   "id": "cc1641a5-9e03-41d7-9904-8176b5908565",
   "metadata": {},
   "outputs": [
    {
     "data": {
      "text/html": [
       "<div>\n",
       "<style scoped>\n",
       "    .dataframe tbody tr th:only-of-type {\n",
       "        vertical-align: middle;\n",
       "    }\n",
       "\n",
       "    .dataframe tbody tr th {\n",
       "        vertical-align: top;\n",
       "    }\n",
       "\n",
       "    .dataframe thead th {\n",
       "        text-align: right;\n",
       "    }\n",
       "</style>\n",
       "<table border=\"1\" class=\"dataframe\">\n",
       "  <thead>\n",
       "    <tr style=\"text-align: right;\">\n",
       "      <th></th>\n",
       "      <th>id</th>\n",
       "      <th>name</th>\n",
       "      <th>tagline</th>\n",
       "      <th>first_brewed</th>\n",
       "      <th>description</th>\n",
       "      <th>image_url</th>\n",
       "      <th>abv</th>\n",
       "      <th>ibu</th>\n",
       "      <th>target_fg</th>\n",
       "      <th>target_og</th>\n",
       "      <th>...</th>\n",
       "      <th>srm</th>\n",
       "      <th>ph</th>\n",
       "      <th>attenuation_level</th>\n",
       "      <th>volume</th>\n",
       "      <th>boil_volume</th>\n",
       "      <th>method</th>\n",
       "      <th>ingredients</th>\n",
       "      <th>food_pairing</th>\n",
       "      <th>brewers_tips</th>\n",
       "      <th>contributed_by</th>\n",
       "    </tr>\n",
       "  </thead>\n",
       "  <tbody>\n",
       "    <tr>\n",
       "      <th>0</th>\n",
       "      <td>1</td>\n",
       "      <td>Buzz</td>\n",
       "      <td>A Real Bitter Experience.</td>\n",
       "      <td>09/2007</td>\n",
       "      <td>A light, crisp and bitter IPA brewed with Engl...</td>\n",
       "      <td>https://images.punkapi.com/v2/keg.png</td>\n",
       "      <td>4.5</td>\n",
       "      <td>60.0</td>\n",
       "      <td>1010.0</td>\n",
       "      <td>1044.0</td>\n",
       "      <td>...</td>\n",
       "      <td>10.0</td>\n",
       "      <td>4.4</td>\n",
       "      <td>75.0</td>\n",
       "      <td>{'value': 20, 'unit': 'litres'}</td>\n",
       "      <td>{'value': 25, 'unit': 'litres'}</td>\n",
       "      <td>{'mash_temp': [{'temp': {'value': 64, 'unit': ...</td>\n",
       "      <td>{'malt': [{'name': 'Maris Otter Extra Pale', '...</td>\n",
       "      <td>[Spicy chicken tikka masala, Grilled chicken q...</td>\n",
       "      <td>The earthy and floral aromas from the hops can...</td>\n",
       "      <td>Sam Mason &lt;samjbmason&gt;</td>\n",
       "    </tr>\n",
       "    <tr>\n",
       "      <th>1</th>\n",
       "      <td>2</td>\n",
       "      <td>Trashy Blonde</td>\n",
       "      <td>You Know You Shouldn't</td>\n",
       "      <td>04/2008</td>\n",
       "      <td>A titillating, neurotic, peroxide punk of a Pa...</td>\n",
       "      <td>https://images.punkapi.com/v2/2.png</td>\n",
       "      <td>4.1</td>\n",
       "      <td>41.5</td>\n",
       "      <td>1010.0</td>\n",
       "      <td>1041.7</td>\n",
       "      <td>...</td>\n",
       "      <td>15.0</td>\n",
       "      <td>4.4</td>\n",
       "      <td>76.0</td>\n",
       "      <td>{'value': 20, 'unit': 'litres'}</td>\n",
       "      <td>{'value': 25, 'unit': 'litres'}</td>\n",
       "      <td>{'mash_temp': [{'temp': {'value': 69, 'unit': ...</td>\n",
       "      <td>{'malt': [{'name': 'Maris Otter Extra Pale', '...</td>\n",
       "      <td>[Fresh crab with lemon, Garlic butter dipping ...</td>\n",
       "      <td>Be careful not to collect too much wort from t...</td>\n",
       "      <td>Sam Mason &lt;samjbmason&gt;</td>\n",
       "    </tr>\n",
       "    <tr>\n",
       "      <th>2</th>\n",
       "      <td>3</td>\n",
       "      <td>Berliner Weisse With Yuzu - B-Sides</td>\n",
       "      <td>Japanese Citrus Berliner Weisse.</td>\n",
       "      <td>11/2015</td>\n",
       "      <td>Japanese citrus fruit intensifies the sour nat...</td>\n",
       "      <td>https://images.punkapi.com/v2/keg.png</td>\n",
       "      <td>4.2</td>\n",
       "      <td>8.0</td>\n",
       "      <td>1007.0</td>\n",
       "      <td>1040.0</td>\n",
       "      <td>...</td>\n",
       "      <td>4.0</td>\n",
       "      <td>3.2</td>\n",
       "      <td>83.0</td>\n",
       "      <td>{'value': 20, 'unit': 'litres'}</td>\n",
       "      <td>{'value': 25, 'unit': 'litres'}</td>\n",
       "      <td>{'mash_temp': [{'temp': {'value': 60, 'unit': ...</td>\n",
       "      <td>{'malt': [{'name': 'Propino Pale Malt', 'amoun...</td>\n",
       "      <td>[Smoked chicken wings, Miso ramen, Yuzu cheese...</td>\n",
       "      <td>Clean everything twice. All you want is the cl...</td>\n",
       "      <td>Sam Mason &lt;samjbmason&gt;</td>\n",
       "    </tr>\n",
       "  </tbody>\n",
       "</table>\n",
       "<p>3 rows × 21 columns</p>\n",
       "</div>"
      ],
      "text/plain": [
       "   id                                 name                           tagline  \\\n",
       "0   1                                 Buzz         A Real Bitter Experience.   \n",
       "1   2                        Trashy Blonde            You Know You Shouldn't   \n",
       "2   3  Berliner Weisse With Yuzu - B-Sides  Japanese Citrus Berliner Weisse.   \n",
       "\n",
       "  first_brewed                                        description  \\\n",
       "0      09/2007  A light, crisp and bitter IPA brewed with Engl...   \n",
       "1      04/2008  A titillating, neurotic, peroxide punk of a Pa...   \n",
       "2      11/2015  Japanese citrus fruit intensifies the sour nat...   \n",
       "\n",
       "                               image_url  abv   ibu  target_fg  target_og  \\\n",
       "0  https://images.punkapi.com/v2/keg.png  4.5  60.0     1010.0     1044.0   \n",
       "1    https://images.punkapi.com/v2/2.png  4.1  41.5     1010.0     1041.7   \n",
       "2  https://images.punkapi.com/v2/keg.png  4.2   8.0     1007.0     1040.0   \n",
       "\n",
       "   ...   srm   ph  attenuation_level                           volume  \\\n",
       "0  ...  10.0  4.4               75.0  {'value': 20, 'unit': 'litres'}   \n",
       "1  ...  15.0  4.4               76.0  {'value': 20, 'unit': 'litres'}   \n",
       "2  ...   4.0  3.2               83.0  {'value': 20, 'unit': 'litres'}   \n",
       "\n",
       "                       boil_volume  \\\n",
       "0  {'value': 25, 'unit': 'litres'}   \n",
       "1  {'value': 25, 'unit': 'litres'}   \n",
       "2  {'value': 25, 'unit': 'litres'}   \n",
       "\n",
       "                                              method  \\\n",
       "0  {'mash_temp': [{'temp': {'value': 64, 'unit': ...   \n",
       "1  {'mash_temp': [{'temp': {'value': 69, 'unit': ...   \n",
       "2  {'mash_temp': [{'temp': {'value': 60, 'unit': ...   \n",
       "\n",
       "                                         ingredients  \\\n",
       "0  {'malt': [{'name': 'Maris Otter Extra Pale', '...   \n",
       "1  {'malt': [{'name': 'Maris Otter Extra Pale', '...   \n",
       "2  {'malt': [{'name': 'Propino Pale Malt', 'amoun...   \n",
       "\n",
       "                                        food_pairing  \\\n",
       "0  [Spicy chicken tikka masala, Grilled chicken q...   \n",
       "1  [Fresh crab with lemon, Garlic butter dipping ...   \n",
       "2  [Smoked chicken wings, Miso ramen, Yuzu cheese...   \n",
       "\n",
       "                                        brewers_tips          contributed_by  \n",
       "0  The earthy and floral aromas from the hops can...  Sam Mason <samjbmason>  \n",
       "1  Be careful not to collect too much wort from t...  Sam Mason <samjbmason>  \n",
       "2  Clean everything twice. All you want is the cl...  Sam Mason <samjbmason>  \n",
       "\n",
       "[3 rows x 21 columns]"
      ]
     },
     "execution_count": 3,
     "metadata": {},
     "output_type": "execute_result"
    }
   ],
   "source": [
    "# now we have our data from the api we can vizualise it\n",
    "df = pd.DataFrame(beers)\n",
    "df.to_csv(\"beers.csv\", index=False)\n",
    "df.head(3)"
   ]
  },
  {
   "cell_type": "code",
   "execution_count": 4,
   "id": "5b679444-1445-4c3f-82e0-7aa2b715ebf1",
   "metadata": {},
   "outputs": [],
   "source": [
    "# we can see there are a number of columns we don't need and others that will need to be formatted "
   ]
  },
  {
   "cell_type": "code",
   "execution_count": 5,
   "id": "7c39a15a-6f2e-483d-919c-cd8a68ba2b33",
   "metadata": {},
   "outputs": [
    {
     "data": {
      "text/html": [
       "<div>\n",
       "<style scoped>\n",
       "    .dataframe tbody tr th:only-of-type {\n",
       "        vertical-align: middle;\n",
       "    }\n",
       "\n",
       "    .dataframe tbody tr th {\n",
       "        vertical-align: top;\n",
       "    }\n",
       "\n",
       "    .dataframe thead th {\n",
       "        text-align: right;\n",
       "    }\n",
       "</style>\n",
       "<table border=\"1\" class=\"dataframe\">\n",
       "  <thead>\n",
       "    <tr style=\"text-align: right;\">\n",
       "      <th></th>\n",
       "      <th>id</th>\n",
       "      <th>name</th>\n",
       "      <th>tagline</th>\n",
       "      <th>first_brewed</th>\n",
       "      <th>description</th>\n",
       "      <th>image_url</th>\n",
       "      <th>abv</th>\n",
       "      <th>ibu</th>\n",
       "      <th>ebc</th>\n",
       "      <th>srm</th>\n",
       "      <th>ph</th>\n",
       "      <th>ingredients</th>\n",
       "      <th>food_pairing</th>\n",
       "      <th>contributed_by</th>\n",
       "      <th>malts</th>\n",
       "      <th>hops</th>\n",
       "      <th>yeast</th>\n",
       "    </tr>\n",
       "  </thead>\n",
       "  <tbody>\n",
       "    <tr>\n",
       "      <th>0</th>\n",
       "      <td>1</td>\n",
       "      <td>Buzz</td>\n",
       "      <td>A Real Bitter Experience.</td>\n",
       "      <td>09/2007</td>\n",
       "      <td>A light, crisp and bitter IPA brewed with Engl...</td>\n",
       "      <td>https://images.punkapi.com/v2/keg.png</td>\n",
       "      <td>4.5</td>\n",
       "      <td>60.0</td>\n",
       "      <td>20.0</td>\n",
       "      <td>10.0</td>\n",
       "      <td>4.4</td>\n",
       "      <td>Maris Otter Extra Pale, Caramalt, Munich Fuggl...</td>\n",
       "      <td>Spicy chicken tikka masala, Grilled chicken qu...</td>\n",
       "      <td>Sam Mason</td>\n",
       "      <td>Maris Otter Extra Pale, Caramalt, Munich</td>\n",
       "      <td>Fuggles, First Gold, Fuggles, First Gold, Cascade</td>\n",
       "      <td>Wyeast 1056 - American Ale™</td>\n",
       "    </tr>\n",
       "    <tr>\n",
       "      <th>1</th>\n",
       "      <td>2</td>\n",
       "      <td>Trashy Blonde</td>\n",
       "      <td>You Know You Shouldn't</td>\n",
       "      <td>04/2008</td>\n",
       "      <td>A titillating, neurotic, peroxide punk of a Pa...</td>\n",
       "      <td>https://images.punkapi.com/v2/2.png</td>\n",
       "      <td>4.1</td>\n",
       "      <td>41.5</td>\n",
       "      <td>15.0</td>\n",
       "      <td>15.0</td>\n",
       "      <td>4.4</td>\n",
       "      <td>Maris Otter Extra Pale, Caramalt, Munich Amari...</td>\n",
       "      <td>Fresh crab with lemon, Garlic butter dipping s...</td>\n",
       "      <td>Sam Mason</td>\n",
       "      <td>Maris Otter Extra Pale, Caramalt, Munich</td>\n",
       "      <td>Amarillo, Simcoe, Amarillo, Motueka</td>\n",
       "      <td>Wyeast 1056 - American Ale™</td>\n",
       "    </tr>\n",
       "    <tr>\n",
       "      <th>2</th>\n",
       "      <td>3</td>\n",
       "      <td>Berliner Weisse With Yuzu - B-Sides</td>\n",
       "      <td>Japanese Citrus Berliner Weisse.</td>\n",
       "      <td>11/2015</td>\n",
       "      <td>Japanese citrus fruit intensifies the sour nat...</td>\n",
       "      <td>https://images.punkapi.com/v2/keg.png</td>\n",
       "      <td>4.2</td>\n",
       "      <td>8.0</td>\n",
       "      <td>8.0</td>\n",
       "      <td>4.0</td>\n",
       "      <td>3.2</td>\n",
       "      <td>Propino Pale Malt, Wheat Malt, Propino Pale Ma...</td>\n",
       "      <td>Smoked chicken wings, Miso ramen, Yuzu cheesecake</td>\n",
       "      <td>Sam Mason</td>\n",
       "      <td>Propino Pale Malt, Wheat Malt, Propino Pale Ma...</td>\n",
       "      <td>Bramling Cross</td>\n",
       "      <td>Wyeast 1056 - American Ale™</td>\n",
       "    </tr>\n",
       "  </tbody>\n",
       "</table>\n",
       "</div>"
      ],
      "text/plain": [
       "   id                                 name                           tagline  \\\n",
       "0   1                                 Buzz         A Real Bitter Experience.   \n",
       "1   2                        Trashy Blonde            You Know You Shouldn't   \n",
       "2   3  Berliner Weisse With Yuzu - B-Sides  Japanese Citrus Berliner Weisse.   \n",
       "\n",
       "  first_brewed                                        description  \\\n",
       "0      09/2007  A light, crisp and bitter IPA brewed with Engl...   \n",
       "1      04/2008  A titillating, neurotic, peroxide punk of a Pa...   \n",
       "2      11/2015  Japanese citrus fruit intensifies the sour nat...   \n",
       "\n",
       "                               image_url  abv   ibu   ebc   srm   ph  \\\n",
       "0  https://images.punkapi.com/v2/keg.png  4.5  60.0  20.0  10.0  4.4   \n",
       "1    https://images.punkapi.com/v2/2.png  4.1  41.5  15.0  15.0  4.4   \n",
       "2  https://images.punkapi.com/v2/keg.png  4.2   8.0   8.0   4.0  3.2   \n",
       "\n",
       "                                         ingredients  \\\n",
       "0  Maris Otter Extra Pale, Caramalt, Munich Fuggl...   \n",
       "1  Maris Otter Extra Pale, Caramalt, Munich Amari...   \n",
       "2  Propino Pale Malt, Wheat Malt, Propino Pale Ma...   \n",
       "\n",
       "                                        food_pairing contributed_by  \\\n",
       "0  Spicy chicken tikka masala, Grilled chicken qu...      Sam Mason   \n",
       "1  Fresh crab with lemon, Garlic butter dipping s...      Sam Mason   \n",
       "2  Smoked chicken wings, Miso ramen, Yuzu cheesecake      Sam Mason   \n",
       "\n",
       "                                               malts  \\\n",
       "0           Maris Otter Extra Pale, Caramalt, Munich   \n",
       "1           Maris Otter Extra Pale, Caramalt, Munich   \n",
       "2  Propino Pale Malt, Wheat Malt, Propino Pale Ma...   \n",
       "\n",
       "                                                hops  \\\n",
       "0  Fuggles, First Gold, Fuggles, First Gold, Cascade   \n",
       "1                Amarillo, Simcoe, Amarillo, Motueka   \n",
       "2                                     Bramling Cross   \n",
       "\n",
       "                         yeast  \n",
       "0  Wyeast 1056 - American Ale™  \n",
       "1  Wyeast 1056 - American Ale™  \n",
       "2  Wyeast 1056 - American Ale™  "
      ]
     },
     "execution_count": 5,
     "metadata": {},
     "output_type": "execute_result"
    }
   ],
   "source": [
    "# remove columns I don't think we'll need for recomendations (I may be wrong?)\n",
    "df = df.drop(columns=[\"volume\", \"boil_volume\", \"method\",\"brewers_tips\", \"attenuation_level\", \"target_fg\", \"target_og\"])\n",
    "\n",
    "# Get the ingredients people may be interested in - malts, hops or yeast (do they?)\n",
    "df['malts'] = df['ingredients'].apply(lambda x: [i['name'] for i in x['malt']]).apply(lambda x: \", \".join(x))\n",
    "df['hops'] = df['ingredients'].apply(lambda x: [i['name'] for i in x['hops']]).apply(lambda x: \", \".join(x))\n",
    "df['yeast'] = df['ingredients'].apply(lambda x: x['yeast'])\n",
    "\n",
    "# Create a column for all ingredients\n",
    "df[\"ingredients\"] = df[\"malts\"] + \" \" + df[\"hops\"] + \" \" + df[\"yeast\"]\n",
    "\n",
    "# Create a string from the recomendations list\n",
    "df['food_pairing'] = df['food_pairing'].apply(lambda x: \", \".join(x))\n",
    "\n",
    "# format the contributed_by column\n",
    "df['contributed_by'] = df['contributed_by'].apply(lambda x: x.split(\" <\")[0])\n",
    "\n",
    "df.head(3)"
   ]
  },
  {
   "cell_type": "code",
   "execution_count": 6,
   "id": "7c5fef40-d11f-4d6a-af41-b31b2dc53cc2",
   "metadata": {},
   "outputs": [],
   "source": [
    "df.to_csv(\"clean_beer.csv\", index=False)\n",
    "df[:10].to_csv('clean_beer_test.csv', index=False)"
   ]
  },
  {
   "cell_type": "code",
   "execution_count": 15,
   "id": "a97f22ed-cbd9-477b-bf92-5c44df9b6b4e",
   "metadata": {},
   "outputs": [],
   "source": [
    "import pandas as pd\n",
    "from langchain.chat_models import ChatOpenAI\n",
    "from langchain.agents.agent_toolkits import create_pandas_dataframe_agent\n",
    "from langchain.agents.agent_types import AgentType\n",
    "from langsmith import Client\n",
    "from langchain.smith import RunEvalConfig, run_on_dataset\n",
    "\n",
    "\n",
    "df = pd.read_csv(\"clean_beer.csv\")\n",
    "\n",
    "def get_chain():\n",
    "    llm = ChatOpenAI(temperature=0, openai_api_key=api_key)\n",
    "    agent_executor_kwargs = {\n",
    "        \"handle_parsing_errors\": True,\n",
    "    }\n",
    "    agent = create_pandas_dataframe_agent(\n",
    "        llm,\n",
    "        df,\n",
    "        agent_type=AgentType.OPENAI_FUNCTIONS,\n",
    "        agent_executor_kwargs=agent_executor_kwargs,\n",
    "        max_iterations=5\n",
    "    )\n",
    "    return agent"
   ]
  },
  {
   "cell_type": "code",
   "execution_count": 8,
   "id": "ceb7663d-839c-47d2-a0f5-9f92cd8ec54f",
   "metadata": {},
   "outputs": [],
   "source": [
    "qa_chain = get_chain()"
   ]
  },
  {
   "cell_type": "code",
   "execution_count": 9,
   "id": "d9b15e37-8310-4752-b008-df20631d6061",
   "metadata": {},
   "outputs": [
    {
     "data": {
      "text/plain": [
       "{'input': 'whats the average ABV?',\n",
       " 'output': 'The average ABV (Alcohol By Volume) of the beers in the dataframe is approximately 7.91%.'}"
      ]
     },
     "execution_count": 9,
     "metadata": {},
     "output_type": "execute_result"
    }
   ],
   "source": [
    "qa_chain('whats the average ABV?')"
   ]
  },
  {
   "cell_type": "code",
   "execution_count": 12,
   "id": "d985b427-4701-497a-8b52-d45293970c7d",
   "metadata": {},
   "outputs": [
    {
     "data": {
      "text/plain": [
       "{'input': 'which is the strongest beer?',\n",
       " 'output': 'The strongest beer in the dataframe is \"The End Of History\" with an ABV (Alcohol By Volume) of 55.0%.'}"
      ]
     },
     "execution_count": 12,
     "metadata": {},
     "output_type": "execute_result"
    }
   ],
   "source": [
    "qa_chain('which is the strongest beer?')"
   ]
  },
  {
   "cell_type": "code",
   "execution_count": 19,
   "id": "13a2f848-ec32-49a1-90b2-34db2e751eb7",
   "metadata": {},
   "outputs": [
    {
     "name": "stdout",
     "output_type": "stream",
     "text": [
      "There are 63 beers in the dataframe with an ABV (Alcohol By Volume) above 10%.\n"
     ]
    }
   ],
   "source": [
    "answer = qa_chain('How many beers have an abv above 10%?')\n",
    "print(answer['output'])"
   ]
  },
  {
   "cell_type": "code",
   "execution_count": 21,
   "id": "b017f023-3d6d-49c7-9979-5ef313dc557d",
   "metadata": {},
   "outputs": [
    {
     "name": "stdout",
     "output_type": "stream",
     "text": [
      "Sure! I can help you with that. Can you please provide me with some more information about the chicken wings? Are they spicy, BBQ flavored, or something else?\n"
     ]
    }
   ],
   "source": [
    "answer = qa_chain('can you suggest a beer to go with my chicken wings?')\n",
    "print(answer['output'])"
   ]
  },
  {
   "cell_type": "code",
   "execution_count": 22,
   "id": "a7ffe430-7b41-4f7b-a92f-dab89e368735",
   "metadata": {},
   "outputs": [
    {
     "name": "stdout",
     "output_type": "stream",
     "text": [
      "That's great! Spicy chicken wings are a delicious choice. Is there anything specific you would like to know or discuss about spicy chicken wings?\n"
     ]
    }
   ],
   "source": [
    "answer = qa_chain('i like spicy chicken wings?')\n",
    "print(answer['output'])"
   ]
  },
  {
   "cell_type": "code",
   "execution_count": 20,
   "id": "90fe0841-4c3c-4478-a462-56fffd7746d6",
   "metadata": {},
   "outputs": [
    {
     "data": {
      "text/plain": [
       "63"
      ]
     },
     "execution_count": 20,
     "metadata": {},
     "output_type": "execute_result"
    }
   ],
   "source": [
    "len(df[df[\"abv\"] > 10])"
   ]
  },
  {
   "cell_type": "code",
   "execution_count": null,
   "id": "57024ca3-4bad-47ab-9890-b6de1f27205e",
   "metadata": {},
   "outputs": [],
   "source": []
  }
 ],
 "metadata": {
  "kernelspec": {
   "display_name": "Python 3 (ipykernel)",
   "language": "python",
   "name": "python3"
  },
  "language_info": {
   "codemirror_mode": {
    "name": "ipython",
    "version": 3
   },
   "file_extension": ".py",
   "mimetype": "text/x-python",
   "name": "python",
   "nbconvert_exporter": "python",
   "pygments_lexer": "ipython3",
   "version": "3.10.8"
  }
 },
 "nbformat": 4,
 "nbformat_minor": 5
}
